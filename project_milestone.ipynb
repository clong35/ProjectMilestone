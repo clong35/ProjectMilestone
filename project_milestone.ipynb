{
 "cells": [
  {
   "cell_type": "markdown",
   "id": "35ebcc3d-3a6d-4c07-8bbc-8fd81e73570b",
   "metadata": {},
   "source": [
    "For my project I have selected a dataset of heart failure data. It contains variety of features to including if the patient has died before their next visit. Some of the features include the patients age, if they have a history of other problems and other features. "
   ]
  },
  {
   "cell_type": "markdown",
   "id": "1077e216-993c-4073-8f3e-b0c846cbec40",
   "metadata": {},
   "source": [
    "Load in the data set and import the necessary modules."
   ]
  },
  {
   "cell_type": "code",
   "execution_count": 1,
   "id": "32ad4937-4e34-46fa-abef-161107d6dd6a",
   "metadata": {},
   "outputs": [],
   "source": [
    "import pandas as pd\n",
    "import numpy as np\n",
    "\n",
    "df = pd.read_csv('heart_failure_clinical_records_dataset.csv')"
   ]
  },
  {
   "cell_type": "markdown",
   "id": "fbdabed2-7a66-40ac-86bd-3d4894536c01",
   "metadata": {},
   "source": [
    "Separate out the part of the data we are training on. In this case it is the death_event feature. This also loads the data into training and testing splits. "
   ]
  },
  {
   "cell_type": "code",
   "execution_count": 2,
   "id": "f17e4d91-b57d-4b46-8d7e-bfc82acadd10",
   "metadata": {},
   "outputs": [],
   "source": [
    "from sklearn.model_selection import train_test_split\n",
    "\n",
    "X = df.copy().drop('DEATH_EVENT', axis='columns')\n",
    "y = df['DEATH_EVENT'].copy()\n",
    "\n",
    "X_train, X_test, y_train, y_test = train_test_split(X, y, test_size=0.1, random_state=1)"
   ]
  },
  {
   "cell_type": "markdown",
   "id": "9c996ef5-ff20-4235-b3a2-f2c8548e062c",
   "metadata": {},
   "source": [
    "We then select a model to train the data on. In this case I am using a decision tree because it is fairly basic and simple to understand. I also display the f1 score to get a basic idea for how well the model preforms."
   ]
  },
  {
   "cell_type": "code",
   "execution_count": 3,
   "id": "50eb5add-d05f-40be-b6d7-3a261d3dcdc9",
   "metadata": {},
   "outputs": [
    {
     "name": "stdout",
     "output_type": "stream",
     "text": [
      "f1 score 0.631578947368421\n"
     ]
    }
   ],
   "source": [
    "from sklearn.tree import DecisionTreeClassifier\n",
    "from sklearn.metrics import f1_score\n",
    "\n",
    "model = DecisionTreeClassifier()\n",
    "model.fit(X_train, y_train)\n",
    "y_pred = model.predict(X_test)\n",
    "\n",
    "print(f\"f1 score {f1_score(y_test, y_pred)}\")"
   ]
  },
  {
   "cell_type": "markdown",
   "id": "80746dc2-aa8e-497e-bdc4-0e1e64f32dbf",
   "metadata": {},
   "source": [
    "I am making a confusion matrix to display how well the model preforms. This can be saved for later and displayed in the app to show the user how well the model is expected to preform. The dataset is fairly small with 300 total entries so the test split I am displaying has very few entries. "
   ]
  },
  {
   "cell_type": "code",
   "execution_count": 4,
   "id": "340a0e89-24a6-4fa0-a9d3-c020b56474c1",
   "metadata": {},
   "outputs": [
    {
     "data": {
      "image/png": "[encoded data removed]",
      "text/plain": [
       "<Figure size 640x480 with 2 Axes>"
      ]
     },
     "metadata": {},
     "output_type": "display_data"
    }
   ],
   "source": [
    "from sklearn.metrics import confusion_matrix, ConfusionMatrixDisplay\n",
    "import matplotlib.pyplot as plt\n",
    "\n",
    "cm = confusion_matrix(y_test, y_pred)\n",
    "disp = ConfusionMatrixDisplay(confusion_matrix=cm, display_labels=['True', 'False'])\n",
    "\n",
    "disp.plot(cmap='Blues')\n",
    "plt.title('Confusion Matrix')\n",
    "plt.show()\n",
    "\n",
    "\n",
    "# Save figure to be able to display later\n",
    "# plt.savefig('static/styles/pretrained_confusion_matrix.png')"
   ]
  },
  {
   "cell_type": "markdown",
   "id": "2ad6c4ba-64ec-4aaa-805a-bb99b5b2e970",
   "metadata": {},
   "source": [
    "I am saving the model using the pickle library and can load it later."
   ]
  },
  {
   "cell_type": "code",
   "execution_count": 5,
   "id": "d4ec05db-5691-468b-84a1-05be5eeac650",
   "metadata": {},
   "outputs": [],
   "source": [
    "import pickle\n",
    "\n",
    "with open('saved_model.pkl', 'wb') as file:\n",
    "    pickle.dump(model, file)"
   ]
  },
  {
   "cell_type": "markdown",
   "id": "ef37f99a-b070-44e3-a518-1869946051b6",
   "metadata": {},
   "source": [
    "This is loading the model from the file and using it to predict some data from the train test split. This would instead be from user inputed data in the future. 0 in this case is the model predicting the pateient will not have heart failure by the time of the next visit and 1 would be the opposite."
   ]
  },
  {
   "cell_type": "code",
   "execution_count": 7,
   "id": "efab0dfe-8257-4f5a-8ed4-8a7c2a00bc29",
   "metadata": {},
   "outputs": [
    {
     "name": "stdout",
     "output_type": "stream",
     "text": [
      "[0 0 1 0 0 0 0 1 1 0 1 0 1 0 0 0 1 1 0 0 0 1 1 1 0 0 0 0 1 0]\n"
     ]
    }
   ],
   "source": [
    "with open('saved_model.pkl', 'rb') as file:\n",
    "    loaded_model = pickle.load(file)\n",
    "    \n",
    "    print(loaded_model.predict(X_test))"
   ]
  }
 ],
 "metadata": {
  "kernelspec": {
   "display_name": "venv",
   "language": "python",
   "name": "venv"
  },
  "language_info": {
   "codemirror_mode": {
    "name": "ipython",
    "version": 3
   },
   "file_extension": ".py",
   "mimetype": "text/x-python",
   "name": "python",
   "nbconvert_exporter": "python",
   "pygments_lexer": "ipython3",
   "version": "3.10.6"
  }
 },
 "nbformat": 4,
 "nbformat_minor": 5
}
